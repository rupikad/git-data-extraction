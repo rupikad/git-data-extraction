{
 "cells": [
  {
   "cell_type": "markdown",
   "metadata": {},
   "source": [
    "# Mining Software Repositories: Data Extraction\n",
    "\n",
    "**Note**: This file contains blank code cells. Code will be provided and discussed during the Thursday, October 8 class meeting (lecture: labeled _\"Mining Software Repositories (Practicum)\"_). However, solutions will not be posted on Canvas.\n",
    "\n",
    "This notebook will guide you on how to collect and synthesize software repository information gathered from GitHub. To guide us through the process, we will attempt to answer a data-driven question: _Who reviewed my changes?_"
   ]
  },
  {
   "cell_type": "markdown",
   "metadata": {},
   "source": [
    "## Accessing the GitHub API\n",
    "\n",
    "GitHub provides two different APIs for accessing their data:\n",
    "  * **GitHub API v3** - A REST-based interface for interacting with GitHub data using HTTP methods such as `GET`, `PUT`, `POST`, `PATCH`, `DELETE`. ([spec](https://docs.github.com/en/rest))\n",
    "  * **GitHub API v4** - A GraphQL-based interface for interacting with GitHub data using a schema-based syntax for querying graph data structures. ([spec](https://docs.github.com/en/graphql))\n",
    "\n",
    "For all in-class demonstrations and assignments, we will use the GitHub REST API (v3). Unless absolutely necessary, refrain from submitting code that uses the GitHub GraphQL API (v4).\n",
    "\n",
    "The number of calls to the GitHub API is rate-limited. For unauthenticated users, it's 60 calls/hour, for authenticated users is 5000 calls/hours. To authenticate, we must first create an API access token.\n",
    "\n",
    "To start that process, go here: [https://github.com/settings/tokens/new](https://github.com/settings/tokens/new). GitHub might prompt you to login or authenticate as part of this process. Once authenticated, select `Generate new token` and obtain a personal access token (PAT) that has `(no scope)` set so that read-only access to public information is allowed (i.e. leave the scope fields unchecked); further documentation available at [\"Creating a personal access token\"](https://docs.github.com/en/github/authenticating-to-github/creating-a-personal-access-token).\n",
    "\n",
    "> **WARNING**: Treat your tokens like passwords and keep them secret. When using the GitHub API Mining Utility, set the token during instantiation, but do not publish the token in any Python programs or IPython/Jupyter notebooks. \n",
    "\n",
    "Once the token is created, copy/paste it as the value for the `token` variable and add your GitHub username to the `userName` variable below:"
   ]
  },
  {
   "cell_type": "code",
   "execution_count": 4,
   "metadata": {},
   "outputs": [],
   "source": [
    "# removed username/token for privacy\n",
    "userName = 'INSERT-USERNAME'\n",
    "token = 'INSERT-TOKEN'"
   ]
  },
  {
   "cell_type": "markdown",
   "metadata": {},
   "source": [
    "## Interacting with the GitHub API\n",
    "\n",
    "In order to reduce some of the friction of developing a repository mining pipeline, we are providing a simplified Python utility library that handles the authentication, pagination, and formatting of `GET` requests against the GitHub REST API (v3). You can find installation instructions and documentation on the project GitHub page: https://github.com/EPICLab/miner-utils\n",
    "\n",
    "In order to pull that `miner-utils` Python library into this JupyterLab notebook, we can install it (along with some other useful libraries) by executing the following commands:"
   ]
  },
  {
   "cell_type": "code",
   "execution_count": null,
   "metadata": {},
   "outputs": [],
   "source": [
    "# These commands install required dependecies into your environment\n",
    "!pip install git+https://github.com/EPICLab/miner-utils\n",
    "!pip install gitpython\n",
    "!pip install pandas"
   ]
  },
  {
   "cell_type": "code",
   "execution_count": 2,
   "metadata": {},
   "outputs": [],
   "source": [
    "#useful imports (especially when restarting)\n",
    "from minerutils import GitHub\n",
    "import pandas as pd\n",
    "from git import Repo\n",
    "import json"
   ]
  },
  {
   "cell_type": "markdown",
   "metadata": {},
   "source": [
    "The first step for any GitHub repository mining using the `miner-utils` library is to create a `GitHub` _object_ and initialize it with our authentication details:"
   ]
  },
  {
   "cell_type": "code",
   "execution_count": 5,
   "metadata": {},
   "outputs": [],
   "source": [
    "gh = GitHub(userName, token)\n",
    "#print(gh)"
   ]
  },
  {
   "cell_type": "markdown",
   "metadata": {},
   "source": [
    "## Downloading GitHub repository data\n",
    "\n",
    "Before beginning to compose any GitHub API requests, it is important to know what REST endpoints are available for the GitHub API: https://docs.github.com/en/free-pro-team@latest/rest/reference/git\n",
    "\n",
    "We will use the `get(url, params={}, headers={}, perPage=100)` command provided by the `miner-utils` in order to format `GET` requests that will properly query the GitHub REST API (v3). As an example, we would use the following command to determine our current API rate-limit:"
   ]
  },
  {
   "cell_type": "code",
   "execution_count": 6,
   "metadata": {},
   "outputs": [
    {
     "name": "stdout",
     "output_type": "stream",
     "text": [
      "5000\n"
     ]
    }
   ],
   "source": [
    "limit = gh.get('rate_limit')\n",
    "#parsed = json.loads(limit)\n",
    "#print(json.dumps(parsed, indent = 4, sort_keys=True))\n",
    "\n",
    "#print(limit)\n",
    "print(limit['rate']['limit'])"
   ]
  },
  {
   "cell_type": "markdown",
   "metadata": {},
   "source": [
    "For the rest of this demonstration, we will use [`scala/scala`](https://github.com/scala/scala) repository as our example target. To answer the question of _Who reviews my changes?_, we need to collect information about all pull requests made in this project. To do this, we need to use the `pulls` REST endpoint (see [Pulls Request API](https://docs.github.com/en/rest/reference/pulls)).\n",
    "\n",
    "Write your code to download _all_ the pull requests for the `github.com/scala/scala` project in the code box below. Please note that it will take a few minutes to download the whole dataset."
   ]
  },
  {
   "cell_type": "code",
   "execution_count": 7,
   "metadata": {},
   "outputs": [
    {
     "name": "stdout",
     "output_type": "stream",
     "text": [
      "length: 9187\n"
     ]
    }
   ],
   "source": [
    "# download all the pull requests for github.com/scala/scala\n",
    "pulls = gh.get(\"/repos/scala/scala/pulls\", params={\"state\": \"all\"})\n",
    "\n",
    "# how many pull requests are there?\n",
    "print(\"length:\", len(pulls))\n"
   ]
  },
  {
   "cell_type": "markdown",
   "metadata": {},
   "source": [
    "In order to reduce the number of GitHub API requests that we make, we can save this data to a file so that we don't have to rerun the above commands everytime we want to work with this data."
   ]
  },
  {
   "cell_type": "code",
   "execution_count": 8,
   "metadata": {},
   "outputs": [],
   "source": [
    "# writing the data to the file, so we don't have to rerun it again\n",
    "\n",
    "with open(\"pulls.json\", \"w\") as f:\n",
    "    f.write(json.dumps(pulls))\n",
    "    \n",
    "    gh.writeData(\"pulls.json\", pulls)\n",
    "\n",
    "    \n",
    "# if you already have the data extracted, you can simply load it into the environment\n",
    "#with open(\"pulls.json\", \"r\") as f:\n",
    " #   pulls = json.loads(f.read())\n",
    "    \n",
    "pulls = gh.readData(\"pulls.json\")"
   ]
  },
  {
   "cell_type": "markdown",
   "metadata": {},
   "source": [
    "## Processing the GitHub API data\n",
    "\n",
    "Simply retrieving the data from a GitHub API endpoint is no more powerful than using a browser and pointing it at those same endpoints (e.g. [https://api.github.com/rate_limit](https://api.github.com/rate_limit)). Therefore, we need to refine our queries into something more meaningful.\n",
    "\n",
    "In order to determine who makes pull requests in the `scala/scala` project, we can use the `pulls` data that we previously retrieved. As a simplified example, let's examine all of the pull requests made by a particular developer (we will use the developer `lrytz` as are example developer). And since we already retrieved all of the data necessary to answer this question, we don't need to formulate another API request (we can rely on regular Python functionality to answer this question)."
   ]
  },
  {
   "cell_type": "code",
   "execution_count": 9,
   "metadata": {},
   "outputs": [
    {
     "name": "stdout",
     "output_type": "stream",
     "text": [
      "Number of lrytz's PR's:  522\n",
      "\n",
      "***First comment**: \n",
      " I'm personally in favor of the simpler solution, always keep the field. Even dotty agrees\n",
      "\n",
      "```\n",
      "➜  sandbox git:(t12002b) dotc ../test/files/run/t12002.scala && dotr Test\n",
      "good boy!\n",
      "List()\n",
      "List()\n",
      "List(private int C.x)\n",
      "List(private int D.x)\n",
      "List(private int E.x)\n",
      "List(private int F.x)\n",
      "List(private int G.x)\n",
      "List(private final int H.x)\n",
      "List(private int I.x)\n",
      "```\n",
      "\n",
      "Number of comments:  4\n",
      "\n",
      "comment # 1\n",
      "I'm personally in favor of the simpler solution, always keep the field. Even dotty agrees\n",
      "\n",
      "```\n",
      "➜  sandbox git:(t12002b) dotc ../test/files/run/t12002.scala && dotr Test\n",
      "good boy!\n",
      "List()\n",
      "List()\n",
      "List(private int C.x)\n",
      "List(private int D.x)\n",
      "List(private int E.x)\n",
      "List(private int F.x)\n",
      "List(private int G.x)\n",
      "List(private final int H.x)\n",
      "List(private int I.x)\n",
      "```\n",
      "\n",
      "\n",
      "comment # 2\n",
      "On one of the PRs, I mention that doti doesn't do it, but it wasn't clear what \"inferred `private[this]`\" would entail in doti.\n",
      "\n",
      "comment # 3\n",
      "I agree there is not much benefit in this secret handshake. If user doesn't want a field, they should change their code.\n",
      "\n",
      "The possible use case was if class var param was mutated only during constructor, but otherwise unused.\n",
      "\n",
      "The test fail is that neg/t1503 with Nil.type.\n",
      "\n",
      "comment # 4\n",
      "> The possible use case was if class var param was mutated only during constructor, but otherwise unused.\n",
      "\n",
      "👍 but you can't do that with method parameters either, so no big loss and in a way it makes things more regular\n"
     ]
    }
   ],
   "source": [
    "# how many pull requests did the user `lrytz` submit?\n",
    "byAuthor = []\n",
    "for pull in pulls:\n",
    "    if(pull['user']['login'] == 'lrytz'):\n",
    "        byAuthor.append(pull)\n",
    "        \n",
    "# number of PRs\n",
    "print(\"Number of lrytz's PR's: \", len(byAuthor))\n",
    "\n",
    "# # getting the PID and PR state of lrytz's pull requests\n",
    "# for pull in byAuthor[1:10]:\n",
    "#     print(\"ID: \", pull['id'])\n",
    "# #     print(\"Username: \", pull['user']['login'])\n",
    "#     print(\"PR State: \", pull['state'])\n",
    "#     print(\"\\n\")\n",
    "\n",
    "    \n",
    "# getting all the comments in the first index of byAuthor\n",
    "comments_url = byAuthor[1]['comments_url']\n",
    "comments = gh.get(comments_url)\n",
    "\n",
    "# printing the first comment associated with `lrytz`\n",
    "print(\"\\n***First comment**: \\n\", comments[0]['body'])\n",
    "\n",
    "# printing all the comments in byAuthor[1]\n",
    "print(\"Number of comments: \", len(comments))\n",
    "\n",
    "for index, comment in enumerate(comments):\n",
    "    print(\"\\ncomment #\", index+1)\n",
    "    print(comment['body'])"
   ]
  },
  {
   "cell_type": "markdown",
   "metadata": {},
   "source": [
    "## Retrieving additional details from GitHub\n",
    "\n",
    "The `pulls` data that we previously retrieved contains all of the basic information about pull requests made within the `scala/scala` project, but details for any particular pull request are missing (this is a design consideration of the API to reduce data size and possible response timeouts).\n",
    "\n",
    "In order to fill in all of the details of each pull request, we need to call the Pulls Request API using the PR number (per the [\"Get a pull request\"](https://docs.github.com/en/rest/reference/pulls#get-a-pull-request) documentation)."
   ]
  },
  {
   "cell_type": "code",
   "execution_count": 10,
   "metadata": {},
   "outputs": [],
   "source": [
    "# creating new array to hold PR specific details.\n",
    "# byAuthor only has a list of PR, not details for EACH PR\n",
    "completePRByAuthor = []\n",
    "for pull in byAuthor:\n",
    "    pr = gh.get(pull['url'])\n",
    "    completePRByAuthor.append(pr)\n",
    "    \n",
    "# print(completePRByAuthor[0]['user'])\n"
   ]
  },
  {
   "cell_type": "markdown",
   "metadata": {},
   "source": [
    "We can now use the complete `pulls` data to dive further into data analysis and answer our original question, _Who reviews my changes?_\n",
    "\n",
    "However, we first need to clarify our nomenclature so that we can map our data to the question. Pull requests contain changes made by a developer, so we will equate a pull request with _changes_. And the person that merges a pull request is typically the person that _reviewed_ and accepted the changes contained within it. Therefore, we need to determine the user that most often closes pull requests that were created by our example user (`lrytz`) in order to answer our question."
   ]
  },
  {
   "cell_type": "code",
   "execution_count": 11,
   "metadata": {},
   "outputs": [
    {
     "name": "stdout",
     "output_type": "stream",
     "text": [
      "Total merges: 455\n",
      "Lrytz count:  198\n",
      "User who merged the most of `lrytz` PR's:  lrytz\n"
     ]
    }
   ],
   "source": [
    "# which user most often merged (or reviwed) PRs made by 'lrytz'?\n",
    "\n",
    "# getting the authors who merged lrytz's PR's\n",
    "mergedBy = []\n",
    "for pull in completePRByAuthor:\n",
    "    if(pull['merged_by'] is not None):\n",
    "        mergedBy.append(pull['merged_by']['login'])\n",
    "        \n",
    "# print(mergedBy)\n",
    "print(\"Total merges:\", len(mergedBy))\n",
    "\n",
    "# getting the number of PR's lrytz self merged\n",
    "# own_merged = []\n",
    "lrytz_count = 0\n",
    "for pull in completePRByAuthor:\n",
    "    if(pull['merged_by'] is not None and pull['merged_by']['login'] == 'lrytz'):\n",
    "#         own_merged.append(pull['merged_by']['login'])\n",
    "        lrytz_count += 1\n",
    "            \n",
    "# print(len(own_merged))\n",
    "print(\"Lrytz count: \", lrytz_count)\n",
    "\n",
    "# find the users who merged the most PR's (python way)\n",
    "max_merge = max(mergedBy, key = mergedBy.count)\n",
    "print(\"User who merged the most of `lrytz` PR's: \", max_merge)"
   ]
  },
  {
   "cell_type": "code",
   "execution_count": 54,
   "metadata": {},
   "outputs": [
    {
     "data": {
      "text/html": [
       "<div>\n",
       "<style scoped>\n",
       "    .dataframe tbody tr th:only-of-type {\n",
       "        vertical-align: middle;\n",
       "    }\n",
       "\n",
       "    .dataframe tbody tr th {\n",
       "        vertical-align: top;\n",
       "    }\n",
       "\n",
       "    .dataframe thead th {\n",
       "        text-align: right;\n",
       "    }\n",
       "</style>\n",
       "<table border=\"1\" class=\"dataframe\">\n",
       "  <thead>\n",
       "    <tr style=\"text-align: right;\">\n",
       "      <th></th>\n",
       "      <th>size</th>\n",
       "    </tr>\n",
       "    <tr>\n",
       "      <th>merged_by</th>\n",
       "      <th></th>\n",
       "    </tr>\n",
       "  </thead>\n",
       "  <tbody>\n",
       "    <tr>\n",
       "      <th>lrytz</th>\n",
       "      <td>198</td>\n",
       "    </tr>\n",
       "    <tr>\n",
       "      <th>adriaanm</th>\n",
       "      <td>94</td>\n",
       "    </tr>\n",
       "    <tr>\n",
       "      <th>retronym</th>\n",
       "      <td>70</td>\n",
       "    </tr>\n",
       "    <tr>\n",
       "      <th>SethTisue</th>\n",
       "      <td>42</td>\n",
       "    </tr>\n",
       "    <tr>\n",
       "      <th>gkossakowski</th>\n",
       "      <td>14</td>\n",
       "    </tr>\n",
       "    <tr>\n",
       "      <th>paulp</th>\n",
       "      <td>13</td>\n",
       "    </tr>\n",
       "    <tr>\n",
       "      <th>jsuereth</th>\n",
       "      <td>9</td>\n",
       "    </tr>\n",
       "    <tr>\n",
       "      <th>dwijnand</th>\n",
       "      <td>6</td>\n",
       "    </tr>\n",
       "    <tr>\n",
       "      <th>szeiger</th>\n",
       "      <td>6</td>\n",
       "    </tr>\n",
       "    <tr>\n",
       "      <th>JamesIry</th>\n",
       "      <td>2</td>\n",
       "    </tr>\n",
       "    <tr>\n",
       "      <th>diesalbla</th>\n",
       "      <td>1</td>\n",
       "    </tr>\n",
       "  </tbody>\n",
       "</table>\n",
       "</div>"
      ],
      "text/plain": [
       "              size\n",
       "merged_by         \n",
       "lrytz          198\n",
       "adriaanm        94\n",
       "retronym        70\n",
       "SethTisue       42\n",
       "gkossakowski    14\n",
       "paulp           13\n",
       "jsuereth         9\n",
       "dwijnand         6\n",
       "szeiger          6\n",
       "JamesIry         2\n",
       "diesalbla        1"
      ]
     },
     "execution_count": 54,
     "metadata": {},
     "output_type": "execute_result"
    }
   ],
   "source": [
    "# which of those users merged the most of those PRs? (pandas way)\n",
    "import pandas\n",
    "\n",
    "# put mergedBy array into a df\n",
    "mergedByDF = pandas.DataFrame(mergedBy, columns=[\"merged_by\"])\n",
    "\n",
    "# use groupby to get the counts for each user and to_frame to add column to the df\n",
    "countedDF = mergedByDF.groupby(\"merged_by\").size().to_frame('size')\n",
    "\n",
    "# sort the df by descending order to get who merged `lrytz` PR's the most\n",
    "sortedDF = countedDF.sort_values(by=[\"size\"], ascending=False)\n",
    "\n",
    "# print!! lrytz merged their own PRs the most!\n",
    "sortedDF"
   ]
  },
  {
   "cell_type": "markdown",
   "metadata": {},
   "source": [
    "# Extracting information from the Git repository\n",
    "\n",
    "Although we have answered our original question, we might also want to explore datapoints that exist within the structure of Git repositories themselves. The following examples indicate how to use the `GitPython` library to begin formulating queries that return information about the files and code contained within a repository.\n",
    "\n",
    "Although the documentation for `GitPython` is extensive ([documentation](https://gitpython.readthedocs.io/en/stable/intro.html)), it is also difficult to parse. Therefore, I recommend using Dev_Dungeon's [Working with Git Repositories in Python](https://www.devdungeon.com/content/working-git-repositories-python) for beginners; most of the following commands can be found in this guide.\n",
    "\n",
    "To begin with, you must have a working version of the Git repository cloned onto your system."
   ]
  },
  {
   "cell_type": "code",
   "execution_count": 1,
   "metadata": {
    "collapsed": true,
    "jupyter": {
     "outputs_hidden": true
    }
   },
   "outputs": [
    {
     "ename": "GitCommandError",
     "evalue": "Cmd('git') failed due to: exit code(128)\n  cmdline: git clone -v https://github.com/scala/scala.git ../scala\n  stderr: 'fatal: destination path '../scala' already exists and is not an empty directory.\n'",
     "output_type": "error",
     "traceback": [
      "\u001b[1;31m---------------------------------------------------------------------------\u001b[0m",
      "\u001b[1;31mGitCommandError\u001b[0m                           Traceback (most recent call last)",
      "\u001b[1;32m<ipython-input-1-a4b18a5a8db0>\u001b[0m in \u001b[0;36m<module>\u001b[1;34m\u001b[0m\n\u001b[0;32m      2\u001b[0m \u001b[1;33m\u001b[0m\u001b[0m\n\u001b[0;32m      3\u001b[0m \u001b[1;31m# Check out via HTTPS (this might take awhile, but it only has to be done once)\u001b[0m\u001b[1;33m\u001b[0m\u001b[1;33m\u001b[0m\u001b[1;33m\u001b[0m\u001b[0m\n\u001b[1;32m----> 4\u001b[1;33m \u001b[0mrepo\u001b[0m \u001b[1;33m=\u001b[0m \u001b[0mgit\u001b[0m\u001b[1;33m.\u001b[0m\u001b[0mRepo\u001b[0m\u001b[1;33m.\u001b[0m\u001b[0mclone_from\u001b[0m\u001b[1;33m(\u001b[0m\u001b[1;34m'https://github.com/scala/scala.git'\u001b[0m\u001b[1;33m,\u001b[0m \u001b[1;34m'../scala'\u001b[0m\u001b[1;33m)\u001b[0m\u001b[1;33m\u001b[0m\u001b[1;33m\u001b[0m\u001b[0m\n\u001b[0m",
      "\u001b[1;32mc:\\users\\rupika\\appdata\\local\\programs\\python\\python37\\lib\\site-packages\\git\\repo\\base.py\u001b[0m in \u001b[0;36mclone_from\u001b[1;34m(cls, url, to_path, progress, env, multi_options, **kwargs)\u001b[0m\n\u001b[0;32m   1030\u001b[0m         \u001b[1;32mif\u001b[0m \u001b[0menv\u001b[0m \u001b[1;32mis\u001b[0m \u001b[1;32mnot\u001b[0m \u001b[1;32mNone\u001b[0m\u001b[1;33m:\u001b[0m\u001b[1;33m\u001b[0m\u001b[1;33m\u001b[0m\u001b[0m\n\u001b[0;32m   1031\u001b[0m             \u001b[0mgit\u001b[0m\u001b[1;33m.\u001b[0m\u001b[0mupdate_environment\u001b[0m\u001b[1;33m(\u001b[0m\u001b[1;33m**\u001b[0m\u001b[0menv\u001b[0m\u001b[1;33m)\u001b[0m\u001b[1;33m\u001b[0m\u001b[1;33m\u001b[0m\u001b[0m\n\u001b[1;32m-> 1032\u001b[1;33m         \u001b[1;32mreturn\u001b[0m \u001b[0mcls\u001b[0m\u001b[1;33m.\u001b[0m\u001b[0m_clone\u001b[0m\u001b[1;33m(\u001b[0m\u001b[0mgit\u001b[0m\u001b[1;33m,\u001b[0m \u001b[0murl\u001b[0m\u001b[1;33m,\u001b[0m \u001b[0mto_path\u001b[0m\u001b[1;33m,\u001b[0m \u001b[0mGitCmdObjectDB\u001b[0m\u001b[1;33m,\u001b[0m \u001b[0mprogress\u001b[0m\u001b[1;33m,\u001b[0m \u001b[0mmulti_options\u001b[0m\u001b[1;33m,\u001b[0m \u001b[1;33m**\u001b[0m\u001b[0mkwargs\u001b[0m\u001b[1;33m)\u001b[0m\u001b[1;33m\u001b[0m\u001b[1;33m\u001b[0m\u001b[0m\n\u001b[0m\u001b[0;32m   1033\u001b[0m \u001b[1;33m\u001b[0m\u001b[0m\n\u001b[0;32m   1034\u001b[0m     \u001b[1;32mdef\u001b[0m \u001b[0marchive\u001b[0m\u001b[1;33m(\u001b[0m\u001b[0mself\u001b[0m\u001b[1;33m,\u001b[0m \u001b[0mostream\u001b[0m\u001b[1;33m,\u001b[0m \u001b[0mtreeish\u001b[0m\u001b[1;33m=\u001b[0m\u001b[1;32mNone\u001b[0m\u001b[1;33m,\u001b[0m \u001b[0mprefix\u001b[0m\u001b[1;33m=\u001b[0m\u001b[1;32mNone\u001b[0m\u001b[1;33m,\u001b[0m \u001b[1;33m**\u001b[0m\u001b[0mkwargs\u001b[0m\u001b[1;33m)\u001b[0m\u001b[1;33m:\u001b[0m\u001b[1;33m\u001b[0m\u001b[1;33m\u001b[0m\u001b[0m\n",
      "\u001b[1;32mc:\\users\\rupika\\appdata\\local\\programs\\python\\python37\\lib\\site-packages\\git\\repo\\base.py\u001b[0m in \u001b[0;36m_clone\u001b[1;34m(cls, git, url, path, odb_default_type, progress, multi_options, **kwargs)\u001b[0m\n\u001b[0;32m    971\u001b[0m             \u001b[1;33m(\u001b[0m\u001b[0mstdout\u001b[0m\u001b[1;33m,\u001b[0m \u001b[0mstderr\u001b[0m\u001b[1;33m)\u001b[0m \u001b[1;33m=\u001b[0m \u001b[0mproc\u001b[0m\u001b[1;33m.\u001b[0m\u001b[0mcommunicate\u001b[0m\u001b[1;33m(\u001b[0m\u001b[1;33m)\u001b[0m\u001b[1;33m\u001b[0m\u001b[1;33m\u001b[0m\u001b[0m\n\u001b[0;32m    972\u001b[0m             \u001b[0mlog\u001b[0m\u001b[1;33m.\u001b[0m\u001b[0mdebug\u001b[0m\u001b[1;33m(\u001b[0m\u001b[1;34m\"Cmd(%s)'s unused stdout: %s\"\u001b[0m\u001b[1;33m,\u001b[0m \u001b[0mgetattr\u001b[0m\u001b[1;33m(\u001b[0m\u001b[0mproc\u001b[0m\u001b[1;33m,\u001b[0m \u001b[1;34m'args'\u001b[0m\u001b[1;33m,\u001b[0m \u001b[1;34m''\u001b[0m\u001b[1;33m)\u001b[0m\u001b[1;33m,\u001b[0m \u001b[0mstdout\u001b[0m\u001b[1;33m)\u001b[0m\u001b[1;33m\u001b[0m\u001b[1;33m\u001b[0m\u001b[0m\n\u001b[1;32m--> 973\u001b[1;33m             \u001b[0mfinalize_process\u001b[0m\u001b[1;33m(\u001b[0m\u001b[0mproc\u001b[0m\u001b[1;33m,\u001b[0m \u001b[0mstderr\u001b[0m\u001b[1;33m=\u001b[0m\u001b[0mstderr\u001b[0m\u001b[1;33m)\u001b[0m\u001b[1;33m\u001b[0m\u001b[1;33m\u001b[0m\u001b[0m\n\u001b[0m\u001b[0;32m    974\u001b[0m \u001b[1;33m\u001b[0m\u001b[0m\n\u001b[0;32m    975\u001b[0m         \u001b[1;31m# our git command could have a different working dir than our actual\u001b[0m\u001b[1;33m\u001b[0m\u001b[1;33m\u001b[0m\u001b[1;33m\u001b[0m\u001b[0m\n",
      "\u001b[1;32mc:\\users\\rupika\\appdata\\local\\programs\\python\\python37\\lib\\site-packages\\git\\util.py\u001b[0m in \u001b[0;36mfinalize_process\u001b[1;34m(proc, **kwargs)\u001b[0m\n\u001b[0;32m    327\u001b[0m     \u001b[1;34m\"\"\"Wait for the process (clone, fetch, pull or push) and handle its errors accordingly\"\"\"\u001b[0m\u001b[1;33m\u001b[0m\u001b[1;33m\u001b[0m\u001b[0m\n\u001b[0;32m    328\u001b[0m     \u001b[1;31m## TODO: No close proc-streams??\u001b[0m\u001b[1;33m\u001b[0m\u001b[1;33m\u001b[0m\u001b[1;33m\u001b[0m\u001b[0m\n\u001b[1;32m--> 329\u001b[1;33m     \u001b[0mproc\u001b[0m\u001b[1;33m.\u001b[0m\u001b[0mwait\u001b[0m\u001b[1;33m(\u001b[0m\u001b[1;33m**\u001b[0m\u001b[0mkwargs\u001b[0m\u001b[1;33m)\u001b[0m\u001b[1;33m\u001b[0m\u001b[1;33m\u001b[0m\u001b[0m\n\u001b[0m\u001b[0;32m    330\u001b[0m \u001b[1;33m\u001b[0m\u001b[0m\n\u001b[0;32m    331\u001b[0m \u001b[1;33m\u001b[0m\u001b[0m\n",
      "\u001b[1;32mc:\\users\\rupika\\appdata\\local\\programs\\python\\python37\\lib\\site-packages\\git\\cmd.py\u001b[0m in \u001b[0;36mwait\u001b[1;34m(self, stderr)\u001b[0m\n\u001b[0;32m    406\u001b[0m                 \u001b[0merrstr\u001b[0m \u001b[1;33m=\u001b[0m \u001b[0mread_all_from_possibly_closed_stream\u001b[0m\u001b[1;33m(\u001b[0m\u001b[0mself\u001b[0m\u001b[1;33m.\u001b[0m\u001b[0mproc\u001b[0m\u001b[1;33m.\u001b[0m\u001b[0mstderr\u001b[0m\u001b[1;33m)\u001b[0m\u001b[1;33m\u001b[0m\u001b[1;33m\u001b[0m\u001b[0m\n\u001b[0;32m    407\u001b[0m                 \u001b[0mlog\u001b[0m\u001b[1;33m.\u001b[0m\u001b[0mdebug\u001b[0m\u001b[1;33m(\u001b[0m\u001b[1;34m'AutoInterrupt wait stderr: %r'\u001b[0m \u001b[1;33m%\u001b[0m \u001b[1;33m(\u001b[0m\u001b[0merrstr\u001b[0m\u001b[1;33m,\u001b[0m\u001b[1;33m)\u001b[0m\u001b[1;33m)\u001b[0m\u001b[1;33m\u001b[0m\u001b[1;33m\u001b[0m\u001b[0m\n\u001b[1;32m--> 408\u001b[1;33m                 \u001b[1;32mraise\u001b[0m \u001b[0mGitCommandError\u001b[0m\u001b[1;33m(\u001b[0m\u001b[0mself\u001b[0m\u001b[1;33m.\u001b[0m\u001b[0margs\u001b[0m\u001b[1;33m,\u001b[0m \u001b[0mstatus\u001b[0m\u001b[1;33m,\u001b[0m \u001b[0merrstr\u001b[0m\u001b[1;33m)\u001b[0m\u001b[1;33m\u001b[0m\u001b[1;33m\u001b[0m\u001b[0m\n\u001b[0m\u001b[0;32m    409\u001b[0m             \u001b[1;31m# END status handling\u001b[0m\u001b[1;33m\u001b[0m\u001b[1;33m\u001b[0m\u001b[1;33m\u001b[0m\u001b[0m\n\u001b[0;32m    410\u001b[0m             \u001b[1;32mreturn\u001b[0m \u001b[0mstatus\u001b[0m\u001b[1;33m\u001b[0m\u001b[1;33m\u001b[0m\u001b[0m\n",
      "\u001b[1;31mGitCommandError\u001b[0m: Cmd('git') failed due to: exit code(128)\n  cmdline: git clone -v https://github.com/scala/scala.git ../scala\n  stderr: 'fatal: destination path '../scala' already exists and is not an empty directory.\n'"
     ]
    }
   ],
   "source": [
    "import git\n",
    "\n",
    "# Check out via HTTPS (this might take awhile, but it only has to be done once)\n",
    "repo = git.Repo.clone_from('https://github.com/scala/scala.git', '../scala')"
   ]
  },
  {
   "cell_type": "code",
   "execution_count": 3,
   "metadata": {},
   "outputs": [],
   "source": [
    "# load an existing local repository\n",
    "my_repo = git.Repo('../scala')"
   ]
  },
  {
   "cell_type": "markdown",
   "metadata": {},
   "source": [
    "To then begin answering data-driven questions about the repository, we must first determine which part of the Git protocol will need to be examined for a given question. For example, if we want to know which files were changed in a specific commit."
   ]
  },
  {
   "cell_type": "code",
   "execution_count": 5,
   "metadata": {},
   "outputs": [
    {
     "name": "stdout",
     "output_type": "stream",
     "text": [
      "build.sbt\n",
      "src/compiler/scala/tools/nsc/backend/jvm/BCodeHelpers.scala\n",
      "src/compiler/scala/tools/nsc/backend/jvm/analysis/AliasingFrame.scala\n",
      "src/compiler/scala/tools/nsc/backend/jvm/analysis/BackendUtils.scala\n",
      "src/compiler/scala/tools/nsc/backend/jvm/opt/LocalOpt.scala\n",
      "src/library/scala/Array.scala\n",
      "src/library/scala/collection/concurrent/TrieMap.scala\n",
      "src/library/scala/collection/mutable/ArrayBuilder.scala\n",
      "src/library/scala/collection/mutable/BitSet.scala\n",
      "src/library/scala/collection/mutable/WrappedArrayBuilder.scala\n",
      "src/library/scala/collection/parallel/mutable/package.scala\n",
      "src/reflect/scala/reflect/internal/pickling/PickleBuffer.scala\n",
      "src/repl-jline/scala/tools/nsc/interpreter/jline/JLineDelimiter.scala\n"
     ]
    }
   ],
   "source": [
    "commit_hash = '1fb249c635d5748d5de5c96b9c7eb93a2c29f830'\n",
    "diff = my_repo.git.diff(commit_hash+'~1..'+commit_hash, name_only=True)\n",
    "print(diff)"
   ]
  },
  {
   "cell_type": "code",
   "execution_count": null,
   "metadata": {},
   "outputs": [],
   "source": []
  }
 ],
 "metadata": {
  "celltoolbar": "Tags",
  "kernelspec": {
   "display_name": "Python 3",
   "language": "python",
   "name": "python3"
  },
  "language_info": {
   "codemirror_mode": {
    "name": "ipython",
    "version": 3
   },
   "file_extension": ".py",
   "mimetype": "text/x-python",
   "name": "python",
   "nbconvert_exporter": "python",
   "pygments_lexer": "ipython3",
   "version": "3.7.2"
  }
 },
 "nbformat": 4,
 "nbformat_minor": 4
}
